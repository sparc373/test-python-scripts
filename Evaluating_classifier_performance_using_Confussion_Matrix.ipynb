{
  "nbformat": 4,
  "nbformat_minor": 0,
  "metadata": {
    "colab": {
      "name": "Evaluating classifier performance using Confussion Matrix.ipynb",
      "version": "0.3.2",
      "provenance": [],
      "collapsed_sections": [],
      "include_colab_link": true
    },
    "kernelspec": {
      "name": "python3",
      "display_name": "Python 3"
    }
  },
  "cells": [
    {
      "cell_type": "markdown",
      "metadata": {
        "id": "view-in-github",
        "colab_type": "text"
      },
      "source": [
        "<a href=\"https://colab.research.google.com/github/sparc373/test-python-scripts/blob/master/Evaluating_classifier_performance_using_Confussion_Matrix.ipynb\" target=\"_parent\"><img src=\"https://colab.research.google.com/assets/colab-badge.svg\" alt=\"Open In Colab\"/></a>"
      ]
    },
    {
      "metadata": {
        "id": "JnfjGEtw_EY1",
        "colab_type": "code",
        "colab": {}
      },
      "cell_type": "code",
      "source": [
        "import numpy as np # linear algebra\n",
        "import pandas as pd # data processing, CSV file I/O (e.g. pd.read_csv)\n",
        "from sklearn.ensemble import RandomForestClassifier\n",
        "from sklearn.model_selection import train_test_split\n",
        "from sklearn.metrics import confusion_matrix, classification_report"
      ],
      "execution_count": 0,
      "outputs": []
    },
    {
      "metadata": {
        "id": "DXjDqBRmAFhO",
        "colab_type": "code",
        "colab": {
          "base_uri": "https://localhost:8080/",
          "height": 277
        },
        "outputId": "30e663df-70f5-466f-d3ae-a6b477cd8942"
      },
      "cell_type": "code",
      "source": [
        "data = pd.read_csv(\"train.csv\")\n",
        "data.info()"
      ],
      "execution_count": 8,
      "outputs": [
        {
          "output_type": "stream",
          "text": [
            "<class 'pandas.core.frame.DataFrame'>\n",
            "RangeIndex: 614 entries, 0 to 613\n",
            "Data columns (total 10 columns):\n",
            "p_id                     614 non-null int64\n",
            "no_times_pregnant        614 non-null int64\n",
            "glucose_concentration    614 non-null int64\n",
            "blood_pressure           614 non-null int64\n",
            "skin_fold_thickness      614 non-null int64\n",
            "serum_insulin            614 non-null int64\n",
            "bmi                      614 non-null float64\n",
            "diabetes pedigree        614 non-null float64\n",
            "age                      614 non-null int64\n",
            "diabetes                 614 non-null int64\n",
            "dtypes: float64(2), int64(8)\n",
            "memory usage: 48.0 KB\n"
          ],
          "name": "stdout"
        }
      ]
    },
    {
      "metadata": {
        "id": "zaLndSGoAMDu",
        "colab_type": "code",
        "colab": {
          "base_uri": "https://localhost:8080/",
          "height": 331
        },
        "outputId": "1acd5d39-6683-4f06-a327-f14563b94a83"
      },
      "cell_type": "code",
      "source": [
        "data.describe()"
      ],
      "execution_count": 9,
      "outputs": [
        {
          "output_type": "execute_result",
          "data": {
            "text/html": [
              "<div>\n",
              "<style scoped>\n",
              "    .dataframe tbody tr th:only-of-type {\n",
              "        vertical-align: middle;\n",
              "    }\n",
              "\n",
              "    .dataframe tbody tr th {\n",
              "        vertical-align: top;\n",
              "    }\n",
              "\n",
              "    .dataframe thead th {\n",
              "        text-align: right;\n",
              "    }\n",
              "</style>\n",
              "<table border=\"1\" class=\"dataframe\">\n",
              "  <thead>\n",
              "    <tr style=\"text-align: right;\">\n",
              "      <th></th>\n",
              "      <th>p_id</th>\n",
              "      <th>no_times_pregnant</th>\n",
              "      <th>glucose_concentration</th>\n",
              "      <th>blood_pressure</th>\n",
              "      <th>skin_fold_thickness</th>\n",
              "      <th>serum_insulin</th>\n",
              "      <th>bmi</th>\n",
              "      <th>diabetes pedigree</th>\n",
              "      <th>age</th>\n",
              "      <th>diabetes</th>\n",
              "    </tr>\n",
              "  </thead>\n",
              "  <tbody>\n",
              "    <tr>\n",
              "      <th>count</th>\n",
              "      <td>614.000000</td>\n",
              "      <td>614.000000</td>\n",
              "      <td>614.000000</td>\n",
              "      <td>614.000000</td>\n",
              "      <td>614.000000</td>\n",
              "      <td>614.000000</td>\n",
              "      <td>614.000000</td>\n",
              "      <td>614.000000</td>\n",
              "      <td>614.000000</td>\n",
              "      <td>614.000000</td>\n",
              "    </tr>\n",
              "    <tr>\n",
              "      <th>mean</th>\n",
              "      <td>385.773616</td>\n",
              "      <td>3.853420</td>\n",
              "      <td>120.542345</td>\n",
              "      <td>68.765472</td>\n",
              "      <td>20.244300</td>\n",
              "      <td>79.355049</td>\n",
              "      <td>31.909935</td>\n",
              "      <td>0.466342</td>\n",
              "      <td>33.325733</td>\n",
              "      <td>0.348534</td>\n",
              "    </tr>\n",
              "    <tr>\n",
              "      <th>std</th>\n",
              "      <td>223.603024</td>\n",
              "      <td>3.358126</td>\n",
              "      <td>31.252286</td>\n",
              "      <td>19.914836</td>\n",
              "      <td>15.886083</td>\n",
              "      <td>117.709950</td>\n",
              "      <td>8.007699</td>\n",
              "      <td>0.331090</td>\n",
              "      <td>11.929569</td>\n",
              "      <td>0.476895</td>\n",
              "    </tr>\n",
              "    <tr>\n",
              "      <th>min</th>\n",
              "      <td>1.000000</td>\n",
              "      <td>0.000000</td>\n",
              "      <td>0.000000</td>\n",
              "      <td>0.000000</td>\n",
              "      <td>0.000000</td>\n",
              "      <td>0.000000</td>\n",
              "      <td>0.000000</td>\n",
              "      <td>0.078000</td>\n",
              "      <td>21.000000</td>\n",
              "      <td>0.000000</td>\n",
              "    </tr>\n",
              "    <tr>\n",
              "      <th>25%</th>\n",
              "      <td>191.250000</td>\n",
              "      <td>1.000000</td>\n",
              "      <td>99.000000</td>\n",
              "      <td>62.000000</td>\n",
              "      <td>0.000000</td>\n",
              "      <td>0.000000</td>\n",
              "      <td>27.300000</td>\n",
              "      <td>0.240250</td>\n",
              "      <td>24.000000</td>\n",
              "      <td>0.000000</td>\n",
              "    </tr>\n",
              "    <tr>\n",
              "      <th>50%</th>\n",
              "      <td>387.000000</td>\n",
              "      <td>3.000000</td>\n",
              "      <td>117.000000</td>\n",
              "      <td>72.000000</td>\n",
              "      <td>23.000000</td>\n",
              "      <td>17.000000</td>\n",
              "      <td>32.000000</td>\n",
              "      <td>0.361000</td>\n",
              "      <td>29.000000</td>\n",
              "      <td>0.000000</td>\n",
              "    </tr>\n",
              "    <tr>\n",
              "      <th>75%</th>\n",
              "      <td>572.750000</td>\n",
              "      <td>6.000000</td>\n",
              "      <td>139.000000</td>\n",
              "      <td>80.000000</td>\n",
              "      <td>32.000000</td>\n",
              "      <td>126.000000</td>\n",
              "      <td>36.600000</td>\n",
              "      <td>0.613500</td>\n",
              "      <td>41.000000</td>\n",
              "      <td>1.000000</td>\n",
              "    </tr>\n",
              "    <tr>\n",
              "      <th>max</th>\n",
              "      <td>768.000000</td>\n",
              "      <td>17.000000</td>\n",
              "      <td>197.000000</td>\n",
              "      <td>114.000000</td>\n",
              "      <td>63.000000</td>\n",
              "      <td>846.000000</td>\n",
              "      <td>59.400000</td>\n",
              "      <td>2.420000</td>\n",
              "      <td>81.000000</td>\n",
              "      <td>1.000000</td>\n",
              "    </tr>\n",
              "  </tbody>\n",
              "</table>\n",
              "</div>"
            ],
            "text/plain": [
              "             p_id  no_times_pregnant  glucose_concentration  blood_pressure  \\\n",
              "count  614.000000         614.000000             614.000000      614.000000   \n",
              "mean   385.773616           3.853420             120.542345       68.765472   \n",
              "std    223.603024           3.358126              31.252286       19.914836   \n",
              "min      1.000000           0.000000               0.000000        0.000000   \n",
              "25%    191.250000           1.000000              99.000000       62.000000   \n",
              "50%    387.000000           3.000000             117.000000       72.000000   \n",
              "75%    572.750000           6.000000             139.000000       80.000000   \n",
              "max    768.000000          17.000000             197.000000      114.000000   \n",
              "\n",
              "       skin_fold_thickness  serum_insulin         bmi  diabetes pedigree  \\\n",
              "count           614.000000     614.000000  614.000000         614.000000   \n",
              "mean             20.244300      79.355049   31.909935           0.466342   \n",
              "std              15.886083     117.709950    8.007699           0.331090   \n",
              "min               0.000000       0.000000    0.000000           0.078000   \n",
              "25%               0.000000       0.000000   27.300000           0.240250   \n",
              "50%              23.000000      17.000000   32.000000           0.361000   \n",
              "75%              32.000000     126.000000   36.600000           0.613500   \n",
              "max              63.000000     846.000000   59.400000           2.420000   \n",
              "\n",
              "              age    diabetes  \n",
              "count  614.000000  614.000000  \n",
              "mean    33.325733    0.348534  \n",
              "std     11.929569    0.476895  \n",
              "min     21.000000    0.000000  \n",
              "25%     24.000000    0.000000  \n",
              "50%     29.000000    0.000000  \n",
              "75%     41.000000    1.000000  \n",
              "max     81.000000    1.000000  "
            ]
          },
          "metadata": {
            "tags": []
          },
          "execution_count": 9
        }
      ]
    },
    {
      "metadata": {
        "id": "nFOhy_61ASQl",
        "colab_type": "code",
        "colab": {
          "base_uri": "https://localhost:8080/",
          "height": 239
        },
        "outputId": "d312d55b-a8d5-4216-a8f6-484ad9e32d36"
      },
      "cell_type": "code",
      "source": [
        "#Lets have a look into some sample data\n",
        "data.head()"
      ],
      "execution_count": 10,
      "outputs": [
        {
          "output_type": "execute_result",
          "data": {
            "text/html": [
              "<div>\n",
              "<style scoped>\n",
              "    .dataframe tbody tr th:only-of-type {\n",
              "        vertical-align: middle;\n",
              "    }\n",
              "\n",
              "    .dataframe tbody tr th {\n",
              "        vertical-align: top;\n",
              "    }\n",
              "\n",
              "    .dataframe thead th {\n",
              "        text-align: right;\n",
              "    }\n",
              "</style>\n",
              "<table border=\"1\" class=\"dataframe\">\n",
              "  <thead>\n",
              "    <tr style=\"text-align: right;\">\n",
              "      <th></th>\n",
              "      <th>p_id</th>\n",
              "      <th>no_times_pregnant</th>\n",
              "      <th>glucose_concentration</th>\n",
              "      <th>blood_pressure</th>\n",
              "      <th>skin_fold_thickness</th>\n",
              "      <th>serum_insulin</th>\n",
              "      <th>bmi</th>\n",
              "      <th>diabetes pedigree</th>\n",
              "      <th>age</th>\n",
              "      <th>diabetes</th>\n",
              "    </tr>\n",
              "  </thead>\n",
              "  <tbody>\n",
              "    <tr>\n",
              "      <th>0</th>\n",
              "      <td>316</td>\n",
              "      <td>2</td>\n",
              "      <td>112</td>\n",
              "      <td>68</td>\n",
              "      <td>22</td>\n",
              "      <td>94</td>\n",
              "      <td>34.1</td>\n",
              "      <td>0.315</td>\n",
              "      <td>26</td>\n",
              "      <td>0</td>\n",
              "    </tr>\n",
              "    <tr>\n",
              "      <th>1</th>\n",
              "      <td>25</td>\n",
              "      <td>11</td>\n",
              "      <td>143</td>\n",
              "      <td>94</td>\n",
              "      <td>33</td>\n",
              "      <td>146</td>\n",
              "      <td>36.6</td>\n",
              "      <td>0.254</td>\n",
              "      <td>51</td>\n",
              "      <td>1</td>\n",
              "    </tr>\n",
              "    <tr>\n",
              "      <th>2</th>\n",
              "      <td>710</td>\n",
              "      <td>2</td>\n",
              "      <td>93</td>\n",
              "      <td>64</td>\n",
              "      <td>32</td>\n",
              "      <td>160</td>\n",
              "      <td>38.0</td>\n",
              "      <td>0.674</td>\n",
              "      <td>23</td>\n",
              "      <td>1</td>\n",
              "    </tr>\n",
              "    <tr>\n",
              "      <th>3</th>\n",
              "      <td>658</td>\n",
              "      <td>1</td>\n",
              "      <td>120</td>\n",
              "      <td>80</td>\n",
              "      <td>48</td>\n",
              "      <td>200</td>\n",
              "      <td>38.9</td>\n",
              "      <td>1.162</td>\n",
              "      <td>41</td>\n",
              "      <td>0</td>\n",
              "    </tr>\n",
              "    <tr>\n",
              "      <th>4</th>\n",
              "      <td>542</td>\n",
              "      <td>3</td>\n",
              "      <td>128</td>\n",
              "      <td>72</td>\n",
              "      <td>25</td>\n",
              "      <td>190</td>\n",
              "      <td>32.4</td>\n",
              "      <td>0.549</td>\n",
              "      <td>27</td>\n",
              "      <td>1</td>\n",
              "    </tr>\n",
              "  </tbody>\n",
              "</table>\n",
              "</div>"
            ],
            "text/plain": [
              "   p_id  no_times_pregnant  glucose_concentration  blood_pressure  \\\n",
              "0   316                  2                    112              68   \n",
              "1    25                 11                    143              94   \n",
              "2   710                  2                     93              64   \n",
              "3   658                  1                    120              80   \n",
              "4   542                  3                    128              72   \n",
              "\n",
              "   skin_fold_thickness  serum_insulin   bmi  diabetes pedigree  age  diabetes  \n",
              "0                   22             94  34.1              0.315   26         0  \n",
              "1                   33            146  36.6              0.254   51         1  \n",
              "2                   32            160  38.0              0.674   23         1  \n",
              "3                   48            200  38.9              1.162   41         0  \n",
              "4                   25            190  32.4              0.549   27         1  "
            ]
          },
          "metadata": {
            "tags": []
          },
          "execution_count": 10
        }
      ]
    },
    {
      "metadata": {
        "id": "31uNqwYzAUKF",
        "colab_type": "code",
        "colab": {
          "base_uri": "https://localhost:8080/",
          "height": 72
        },
        "outputId": "ff940bbf-a9af-4e13-936c-bc9f96584fff"
      },
      "cell_type": "code",
      "source": [
        "#Provide features for X and label for y\n",
        "X = data.drop('diabetes',axis=1)\n",
        "y = data['diabetes']\n",
        "# Split the data into traing and test sets\n",
        "X_train, X_test, y_train, y_test = train_test_split(X, y, random_state=42, test_size=.33)\n",
        "#Initialize Random Forest Classifier\n",
        "rfc = RandomForestClassifier()\n",
        "#Fit model on the training Data\n",
        "rfc.fit(X_train,y_train)\n",
        "#Make predictions\n",
        "predictions = rfc.predict(X_test)"
      ],
      "execution_count": 13,
      "outputs": [
        {
          "output_type": "stream",
          "text": [
            "/usr/local/lib/python3.6/dist-packages/sklearn/ensemble/forest.py:246: FutureWarning: The default value of n_estimators will change from 10 in version 0.20 to 100 in 0.22.\n",
            "  \"10 in version 0.20 to 100 in 0.22.\", FutureWarning)\n"
          ],
          "name": "stderr"
        }
      ]
    },
    {
      "metadata": {
        "id": "KlokRYUKAqXd",
        "colab_type": "code",
        "colab": {
          "base_uri": "https://localhost:8080/",
          "height": 52
        },
        "outputId": "76da3972-9eeb-4942-8596-edbbe7eb6d13"
      },
      "cell_type": "code",
      "source": [
        "#Generate Confusion Matrix\n",
        "conf_matrix = confusion_matrix(predictions,y_test)\n",
        "print(conf_matrix)"
      ],
      "execution_count": 14,
      "outputs": [
        {
          "output_type": "stream",
          "text": [
            "[[117  37]\n",
            " [ 14  35]]\n"
          ],
          "name": "stdout"
        }
      ]
    },
    {
      "metadata": {
        "id": "IoheyH2tAvUC",
        "colab_type": "code",
        "colab": {
          "base_uri": "https://localhost:8080/",
          "height": 191
        },
        "outputId": "3c5dfe99-dc95-400d-9521-bd62034e6e4e"
      },
      "cell_type": "code",
      "source": [
        "#Lets calculate Precision, Recall and F1 score for label 0 and 1\n",
        "#For Label 0\n",
        "tp = conf_matrix[0,0]\n",
        "fp = conf_matrix[1,0]\n",
        "fn = conf_matrix[0,1]\n",
        "\n",
        "precision  = tp / (tp + fp)\n",
        "recall     = tp / (tp + fn)\n",
        "f1_score   = 2*( precision * recall)/(precision + recall)\n",
        "\n",
        "print('precision, recall and f1-score for label 0')\n",
        "print('The precision for label 0 is: {0:.2f}'.format(precision))\n",
        "print('The recall for label 0 is: {0:.2f}'.format(recall))\n",
        "print('The f1-score for label 0 is: {0:.2f}'.format(f1_score))\n",
        "print('\\n')\n",
        "#For Label 1 \n",
        "\n",
        "tp = conf_matrix[1,1]\n",
        "fp = conf_matrix[0,1]\n",
        "fn = conf_matrix[1,0]\n",
        "\n",
        "precision  = tp / (tp + fp)\n",
        "recall     = tp / (tp + fn)\n",
        "f1_score   = 2*( precision * recall)/(precision + recall)\n",
        "\n",
        "print('precision, recall and f1-score for label 1')\n",
        "print('The precision for label 1 is: {0:.2f}'.format(precision))\n",
        "print('The recall for label 1 is: {0:.2f}'.format(recall))\n",
        "print('The f1-score for label 1 is: {0:.2f}'.format(f1_score))"
      ],
      "execution_count": 15,
      "outputs": [
        {
          "output_type": "stream",
          "text": [
            "precision, recall and f1-score for label 0\n",
            "The precision for label 0 is: 0.89\n",
            "The recall for label 0 is: 0.76\n",
            "The f1-score for label 0 is: 0.82\n",
            "\n",
            "\n",
            "precision, recall and f1-score for label 1\n",
            "The precision for label 1 is: 0.49\n",
            "The recall for label 1 is: 0.71\n",
            "The f1-score for label 1 is: 0.58\n"
          ],
          "name": "stdout"
        }
      ]
    },
    {
      "metadata": {
        "id": "jZqGgV6BBEF2",
        "colab_type": "code",
        "colab": {
          "base_uri": "https://localhost:8080/",
          "height": 173
        },
        "outputId": "2c795984-f58a-4ea2-816f-388796034553"
      },
      "cell_type": "code",
      "source": [
        "print(classification_report(predictions,y_test))"
      ],
      "execution_count": 16,
      "outputs": [
        {
          "output_type": "stream",
          "text": [
            "              precision    recall  f1-score   support\n",
            "\n",
            "           0       0.89      0.76      0.82       154\n",
            "           1       0.49      0.71      0.58        49\n",
            "\n",
            "   micro avg       0.75      0.75      0.75       203\n",
            "   macro avg       0.69      0.74      0.70       203\n",
            "weighted avg       0.79      0.75      0.76       203\n",
            "\n"
          ],
          "name": "stdout"
        }
      ]
    },
    {
      "metadata": {
        "id": "HxSyRV4bBH-v",
        "colab_type": "code",
        "colab": {}
      },
      "cell_type": "code",
      "source": [
        ""
      ],
      "execution_count": 0,
      "outputs": []
    }
  ]
}